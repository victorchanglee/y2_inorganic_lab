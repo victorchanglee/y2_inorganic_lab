{
 "cells": [
  {
   "cell_type": "markdown",
   "metadata": {},
   "source": [
    "# The H2 molecule: geometry and visualization"
   ]
  },
  {
   "cell_type": "markdown",
   "metadata": {},
   "source": [
    "In order to run a simulation, a geometry has to be defined.\n",
    "\n",
    "In this section, atoms and molecule (a collection of atoms) will be generated.\n",
    "\n",
    "In ASE, there are two objects:\n",
    "\n",
    "1) \"Atom\"   (--> \"ASE_Atom_obj\" in the code cells below )\n",
    "\n",
    "2) \"Atoms\"   (--> \"ASE_Atoms_obj\")\n",
    "\n",
    "both will be adopted to create firstly the two H atoms and then a H2 molecule.\n",
    "\n",
    "The last part of this section is about how to visulize a molecule.\n",
    "\n",
    "This section consists of the following subsections:\n",
    "\n",
    "1) The ASE Atom object\n",
    "\n",
    "2) The ASE Atoms object\n",
    "\n",
    "3) Visualization"
   ]
  },
  {
   "cell_type": "markdown",
   "metadata": {},
   "source": [
    "==="
   ]
  },
  {
   "cell_type": "markdown",
   "metadata": {},
   "source": [
    "<b><i>EXE-1:</i></b> Execute the code cell below and print also atom2."
   ]
  },
  {
   "cell_type": "code",
   "execution_count": 1,
   "metadata": {},
   "outputs": [
    {
     "name": "stdout",
     "output_type": "stream",
     "text": [
      "('H', (0.0, 0.0, 0.0))\n"
     ]
    }
   ],
   "source": [
    "atom1 = ('H', (0.00, 0.00, 0.00))\n",
    "atom2 = ('H', (0.00, 0.00, 0.74))\n",
    "\n",
    "print(atom1)\n",
    "\n",
    "\n"
   ]
  },
  {
   "cell_type": "markdown",
   "metadata": {},
   "source": [
    "<b><i>QUESTION-1:</i></b> what is the distance between the atoms? \n",
    "Please note that Angstroms are used as unit of length."
   ]
  },
  {
   "cell_type": "raw",
   "metadata": {},
   "source": [
    "ANSWER: click to write your answer in this box.\n",
    "\n"
   ]
  },
  {
   "cell_type": "markdown",
   "metadata": {},
   "source": [
    "<b><i>QUESTION-2:</i></b> what is the orientation of the molecule?"
   ]
  },
  {
   "cell_type": "raw",
   "metadata": {},
   "source": [
    "ANSWER: click to write your answer in this box.\n",
    "\n"
   ]
  },
  {
   "cell_type": "markdown",
   "metadata": {},
   "source": [
    "Alternatevely, a list of atoms can be generated as follows.\n",
    "\n",
    "<b><i>EXE-2:</i></b> Modify the code below by adding the print of the symbols and the coordinates \n",
    "for the second atom."
   ]
  },
  {
   "cell_type": "code",
   "execution_count": null,
   "metadata": {},
   "outputs": [],
   "source": [
    "atoms=[]\n",
    "atoms.append(['H', (0.00, 0.00, 0.00)])\n",
    "atoms.append(['H', (0.00, 0.00, 0.74)])\n",
    "\n",
    "print(\"The atom 1 is: \",atoms[:][0])\n",
    "\n",
    "\n"
   ]
  },
  {
   "cell_type": "markdown",
   "metadata": {},
   "source": [
    "<b><i>EXE-3:</i></b> Add a print statement in the for loop below to get this output, similar to the one obtained in the cell above.\n",
    "\n",
    "<pre>\n",
    "The atom 0 is:  ['H', (0.0, 0.0, 0.0)]\n",
    "The atom 1 is:  ['H', (0.0, 0.0, 0.74)]\n",
    "</pre>\n",
    "Please note the change in indeces."
   ]
  },
  {
   "cell_type": "code",
   "execution_count": null,
   "metadata": {},
   "outputs": [],
   "source": [
    "atoms=[]\n",
    "atoms.append(['H', (0.00, 0.00, 0.00)])\n",
    "atoms.append(['H', (0.00, 0.00, 0.74)])\n",
    "\n",
    "for i in range(2):\n",
    "\n",
    "\n"
   ]
  },
  {
   "cell_type": "markdown",
   "metadata": {},
   "source": [
    "==="
   ]
  },
  {
   "cell_type": "markdown",
   "metadata": {},
   "source": [
    "<b>The ASE Atom object</b>"
   ]
  },
  {
   "cell_type": "markdown",
   "metadata": {},
   "source": [
    "The ASE has an object class for an Atom (https://wiki.fysik.dtu.dk/ase/ase/atom.html)"
   ]
  },
  {
   "cell_type": "markdown",
   "metadata": {},
   "source": [
    "<b><i>EXE-4:</i></b> In the box below, an ASE Atom has been created starting from atom1.\n",
    "\n",
    "Create in a similar way ASE_atom2; then execute the code cell below."
   ]
  },
  {
   "cell_type": "code",
   "execution_count": null,
   "metadata": {},
   "outputs": [],
   "source": [
    "atom1 = ('H', (0.00, 0.00, 0.00))\n",
    "atom2 = ('H', (0.00, 0.00, 0.74))\n",
    "\n",
    "from ase import Atom as ASE_Atom_obj\n",
    "\n",
    "ASE_atom1 = ASE_Atom_obj(atom1[0],atom1[1])\n",
    "print(ASE_atom1.symbol)\n",
    "print(ASE_atom1.position)\n",
    "print(ASE_atom1.x,ASE_atom1.y, ASE_atom1.z )\n",
    "print(ASE_atom1.mass)\n",
    "\n",
    "\n"
   ]
  },
  {
   "cell_type": "markdown",
   "metadata": {},
   "source": [
    "To check the manual, type and run the following command in the code cell below\n",
    "<code>\n",
    "    help(ASE_Atom_obj)\n",
    "</code>"
   ]
  },
  {
   "cell_type": "code",
   "execution_count": null,
   "metadata": {},
   "outputs": [],
   "source": []
  },
  {
   "cell_type": "markdown",
   "metadata": {},
   "source": [
    "<b><i>EXE-5:</i></b> In the code cell below define a empty list: \"ASE_atoms=[ ]\"\n",
    "\n",
    "and append in this list the ASE_Atom generated in a similar way to the cell above."
   ]
  },
  {
   "cell_type": "code",
   "execution_count": null,
   "metadata": {
    "scrolled": true
   },
   "outputs": [],
   "source": [
    "from ase import Atom as ASE_Atom_obj\n",
    "\n",
    "atoms=[]\n",
    "atoms.append(['H', (0.00, 0.00, 0.00)])\n",
    "atoms.append(['H', (0.00, 0.00, 0.74)])\n",
    "\n",
    "\n"
   ]
  },
  {
   "cell_type": "markdown",
   "metadata": {},
   "source": [
    "<b><i>EXE-6:</i></b> Complete the code below by adapting the following line to the for loop:\n",
    "\n",
    "<pre>\n",
    "ASE_atoms.append(ASE_Atom_obj(atoms[0][0],atoms[0][1])) \n",
    "print(ASE_atoms[0].symbol)\n",
    "print(ASE_atoms[0].position)\n",
    "print(ASE_atoms[0].x,ASE_atoms[0].y, ASE_atoms[0].z )\n",
    "print(ASE_atoms[0].mass)\n",
    "</pre>\n",
    "\n",
    "You need to get this output once executing the cell (it is the same output of cell above).\n",
    "\n",
    "<pre>\n",
    "H\n",
    "[0. 0. 0.]\n",
    "0.0 0.0 0.0\n",
    "1.008\n",
    "H\n",
    "[0.   0.   0.74]\n",
    "0.0 0.0 0.74\n",
    "1.008\n",
    "</pre>"
   ]
  },
  {
   "cell_type": "code",
   "execution_count": null,
   "metadata": {},
   "outputs": [],
   "source": [
    "from ase import Atom as ASE_Atom_obj\n",
    "\n",
    "atoms=[]\n",
    "atoms.append(['H', (0.00, 0.00, 0.00)])\n",
    "atoms.append(['H', (0.00, 0.00, 0.74)])\n",
    "\n",
    "\n",
    "ASE_atoms=[]\n",
    "\n",
    "for i in range(2):\n",
    "    \n",
    "\n"
   ]
  },
  {
   "cell_type": "markdown",
   "metadata": {},
   "source": [
    "==="
   ]
  },
  {
   "cell_type": "markdown",
   "metadata": {},
   "source": [
    "<b>The ASE Atoms object</b>"
   ]
  },
  {
   "cell_type": "markdown",
   "metadata": {},
   "source": [
    "The ASE has an object class called \"Atoms\" for a collection of atoms (https://wiki.fysik.dtu.dk/ase/ase/atoms.html)\n",
    "\n",
    "The \"Atoms\" class has been imported below as ASE_Atoms_obj.\n",
    "\n",
    "There a set of methods associated with this class; uncomment the lines below and execute the code cell."
   ]
  },
  {
   "cell_type": "markdown",
   "metadata": {},
   "source": [
    "<b><i>EXE-7:</i></b> Execute the cell below."
   ]
  },
  {
   "cell_type": "code",
   "execution_count": null,
   "metadata": {},
   "outputs": [],
   "source": [
    "from ase import Atom as ASE_Atom_obj\n",
    "from ase import Atoms as ASE_Atoms_obj\n",
    "\n",
    "atoms=[]\n",
    "atoms.append(['H', (0.00, 0.00, 0.00)])\n",
    "atoms.append(['H', (0.00, 0.00, 0.74)])\n",
    "\n",
    "print(atoms)\n",
    "ASE_atoms=[]\n",
    "\n",
    "for i in range(2):\n",
    "    ASE_atoms.append(ASE_Atom_obj(atoms[i][0],atoms[i][1]))\n",
    "print(ASE_atoms)\n",
    "print(ASE_atoms[0])\n",
    "print(ASE_atoms[1])\n",
    "    \n",
    "mol_H2=ASE_Atoms_obj([ASE_atoms[0],ASE_atoms[1]])\n",
    "print(mol_H2)\n",
    "\n",
    "#print(\"\\nThe atomic position are:\")\n",
    "#print(mol_H2.get_positions())\n",
    "#print(\"\\nThe atomic symbols are:\")\n",
    "#print(mol_H2.get_chemical_symbols())"
   ]
  },
  {
   "cell_type": "markdown",
   "metadata": {},
   "source": [
    "<b><i>EXE-8:</i></b> The code below has an error; uncomment the line by removing the \"#\" at the beginning of the line and execute the cell.\n",
    "\n",
    "Please fix it by comparing it with the code in the cell above.\n",
    "\n",
    "The aim of this exercise is to show how parentheses are important.\n",
    "This is a common mistake. "
   ]
  },
  {
   "cell_type": "code",
   "execution_count": null,
   "metadata": {},
   "outputs": [],
   "source": [
    "from ase import Atom as ASE_Atom_obj\n",
    "from ase import Atoms as ASE_Atoms_obj\n",
    "\n",
    "atoms=[]\n",
    "atoms.append(['H', (0.00, 0.00, 0.00)])\n",
    "atoms.append(['H', (0.00, 0.00, 0.74)])\n",
    "\n",
    "print(atoms)\n",
    "ASE_atoms=[]\n",
    "\n",
    "for i in range(2):\n",
    "    ASE_atoms.append(ASE_Atom_obj(atoms[i][0],atoms[i][1]))\n",
    "print(ASE_atoms)\n",
    "print(ASE_atoms[0])\n",
    "print(ASE_atoms[1])\n",
    "    \n",
    "#mol_H2=ASE_Atoms_obj(ASE_atoms[0],ASE_atoms[1])"
   ]
  },
  {
   "cell_type": "markdown",
   "metadata": {},
   "source": [
    "<b> Visualization </b>"
   ]
  },
  {
   "cell_type": "markdown",
   "metadata": {},
   "source": [
    "The ASE provides an interface to various visualization tools.\n",
    "\n",
    "A viewer is developed around the ASE Atom class.\n",
    "\n",
    "The default viewer is the ase.gui: \n",
    "\n",
    "https://wiki.fysik.dtu.dk/ase/ase/gui/gui.html#module-ase.gui \n",
    "\n",
    "(Please note that in the link above the command \n",
    "\n",
    "--->  \"from ase.visualize import view\"\n",
    "\n",
    "corresponds to \n",
    "\n",
    "--->  \"from ase.visualize import view as ASE_view\" \n",
    "\n",
    "in the following code cells."
   ]
  },
  {
   "cell_type": "markdown",
   "metadata": {},
   "source": [
    "<b><i>EXE-9:</i></b> Add the following line in the code cell below (after the definition of mol_H2)\n",
    "\n",
    "in order to visualise the H2 molecule:\n",
    "\n",
    "<code>\n",
    "    from ase.visualize import view as ASE_view\n",
    "    ASE_view(mol_H2)\n",
    "</code>\n",
    "\n",
    "After you have executed the code cell below, a vindow will appear where the H2 molecule is visualized.\n",
    "\n",
    "To rotate = left-click and move the mouse\n",
    "\n",
    "To zoom   = middle-click and move the mouse\n",
    "\n",
    "To visualize the bond = Go under \"View\" and select \"Show bonds\" (alternative Crtl+b)"
   ]
  },
  {
   "cell_type": "code",
   "execution_count": null,
   "metadata": {},
   "outputs": [],
   "source": [
    "from ase           import Atom  as ASE_Atom_obj\n",
    "from ase           import Atoms as ASE_Atoms_obj\n",
    "from ase.visualize import view  as ASE_view\n",
    "\n",
    "atoms=[]\n",
    "atoms.append(['H', (0.00, 0.00, 0.00)])\n",
    "atoms.append(['H', (0.00, 0.00, 0.74)])\n",
    "\n",
    "print(atoms)\n",
    "ASE_atoms=[]\n",
    "\n",
    "for i in range(2):\n",
    "    ASE_atoms.append(ASE_Atom_obj(atoms[i][0],atoms[i][1]))\n",
    "print(ASE_atoms)\n",
    "print(ASE_atoms[0])\n",
    "print(ASE_atoms[1])\n",
    "    \n",
    "mol_H2=ASE_Atoms_obj([ASE_atoms[0],ASE_atoms[1]])\n",
    "\n",
    "from ase.visualize import view as ASE_view\n",
    "ASE_view(mol_H2)"
   ]
  },
  {
   "cell_type": "markdown",
   "metadata": {},
   "source": [
    "<b><i>EXE:</i></b> (optional - not assessed) Avogadro can be also used to visualise your system.\n",
    "\n",
    "Copy in the cell below the code above and implement the following change:\n",
    "\n",
    "ASE_view(mol_H2)   ---> ASE_view(mol_H2,viewer='avogadro')\n",
    "\n",
    "Please note that you need to have avogadro install on your computer.\n",
    "\n",
    "\n",
    "If installed, VMD can be also used with the command below:\n",
    "\n",
    "ASE_view(mol_H2,viewer='VMD')"
   ]
  },
  {
   "cell_type": "code",
   "execution_count": null,
   "metadata": {},
   "outputs": [],
   "source": [
    "#Add lines\n",
    "\n",
    "\n",
    "\n"
   ]
  },
  {
   "cell_type": "markdown",
   "metadata": {},
   "source": [
    "<b><i>EXE:</i></b> (only for Linux users - optional - not assessed) Copy in the cell below the code above and adopt the following viewer (that appears as a box in the notebook):\n",
    "\n",
    "ASE_view(mol_H2,viewer='x3d')\n",
    "\n",
    "Play with the mouse bottons to move the molecule. "
   ]
  },
  {
   "cell_type": "code",
   "execution_count": null,
   "metadata": {},
   "outputs": [],
   "source": [
    "#Add lines\n",
    "\n",
    "\n",
    "\n"
   ]
  },
  {
   "cell_type": "markdown",
   "metadata": {},
   "source": [
    "<a href=\"main.ipynb\">Main</a>   <a href=\"molecules.ipynb\">Next</a>"
   ]
  }
 ],
 "metadata": {
  "kernelspec": {
   "display_name": "Python 3",
   "language": "python",
   "name": "python3"
  },
  "language_info": {
   "codemirror_mode": {
    "name": "ipython",
    "version": 3
   },
   "file_extension": ".py",
   "mimetype": "text/x-python",
   "name": "python",
   "nbconvert_exporter": "python",
   "pygments_lexer": "ipython3",
   "version": "3.7.6"
  }
 },
 "nbformat": 4,
 "nbformat_minor": 2
}
