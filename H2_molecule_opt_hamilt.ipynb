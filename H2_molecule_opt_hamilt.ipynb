{
 "cells": [
  {
   "cell_type": "markdown",
   "metadata": {},
   "source": [
    "# The H2 molecule: geometry optimisation - hamiltonian influence"
   ]
  },
  {
   "cell_type": "markdown",
   "metadata": {},
   "source": [
    "The hamiltonian approximation plays a crucial role in quantum mechanical simulations, since it affects the way in which electron interact. \n",
    "In the previous simulations, the Hartree-Fock hamiltonian was adopted in the Rescrited formalism (this is the R in the RHF acronym), which means basically that all the pair of electrons (spin-up and spin-down) occupied the same energy level; each molecular orbital can be either occupied by two electrons\n",
    "(one with spin-up and one with spin-down) or unoccupied. \n",
    "The RHF formalism is only for closed shell systems.\n",
    "The Unrestricted Hartree-Fock formalism is used for opened shell system."
   ]
  },
  {
   "cell_type": "markdown",
   "metadata": {},
   "source": [
    "<b><i>QUESTION-18:</i></b> Which fomalism should be adopted to study an O$_2$ molecule?\n",
    "Why?"
   ]
  },
  {
   "cell_type": "raw",
   "metadata": {},
   "source": [
    "ANSWER: click to write your answer in this box. \n",
    "\n",
"\n"
   ]
  },
  {
   "cell_type": "markdown",
   "metadata": {},
   "source": [
    "Density Functional Theory is also a mean field theory, which has become very popular in the chemistry, physics and materials science comunities for studying both molecular and periodic systems\n",
    "due to his accuracy.\n",
    "The main idea behind this theory is the following:\n",
    "generally speaking,\n",
    "the term of the hamiltonian corresponding to the electron-electron interaction $V_{ee}$ can  \n",
    "be described by a functional of the electronic density.\n",
    "\n",
    "In order to understand the concept of functional, it is useful to revise\n",
    "the concept of function. \n",
    "- A function returns a number as output, when a number is provided as input:\n",
    " $y=f(x) : x \\rightarrow y$\n",
    "- A functional returns a number as output, when a function is given as input:\n",
    " $y=F [ g(x) ] : f(x)  \\rightarrow y$\n",
    " \n",
    "A defined integral is an example of functional; given a function, it returns a number: \n",
    "\n",
    "$\\int_1^2 x dx = 1  $\n",
    "\n",
    "The electron-electron interaction $V_{ee}$ can written as follows:\n",
    "$V_{ee}  \\equiv V_{ee} [\\rho(\\bf r) ]$\n",
    "\n",
    "to be more exact, this can be written as\n",
    "$V_{ee} = V_C + V_{xc} [\\rho(\\bf r) ]$\n",
    "where\n",
    "\n",
    "$\\circ$ $V_C$ is the Coulomb term corresponding to the classical electron-electron interaction\n",
    "\n",
    "$\\circ$ $V_{xc} [\\rho(\\bf r) ]$ is the exchange-correlation functional.\n",
    "\n",
    "The mathematical form of $V_{xc} [\\rho(\\bf r) ]$ is unknow\n",
    "and various approximations have been developed.\n",
    "One of these approximations is the functional B3LYP which has become very popular, as evident from the number of papers published.\n",
    "\n",
    "Please note that this is a ground state theory, which relies on the minimisation of the energy with respect to the coefficients in front of the atomic orbitals used to define the molecular orbitals. Therefore, the unoccupied (also called virtual) orbitals are basically a byproduct of the calculations. However, when styding the electronic properties of a system, it is common practise to look at the separation in energy between the HOMO (High Occupied Molecular Orbitals) and LUMO (Lowest Occupied Molecular Orbital) to a first approximation.\n",
    "\n"
   ]
  },
  {
   "cell_type": "markdown",
   "metadata": {},
   "source": [
    "<b><i>EXE-39:</i></b> From session <a href=\"H2_molecule_opt.ipynb\">The H2 molecule: geometry optimisation</a>\n",
    "\n",
    "copy the python program you have written in the code cell labelled $\\color{blue}{\\text{REFERENCE-3}}$\n",
    "in the code cell below and implement the following changes before performing a geometry optimisation.\n",
    "\n",
    "\n",
    "In the parts labelled as:\n",
    "-  \"#Hamiltonian\"\n",
    "<code>\n",
    "OLD: from pyscf import scf\n",
    "NEW: from pyscf import dft\n",
    "</code>\n",
    "\n",
    "\n",
    "- \"#mean field class in pyscf\"\n",
    "<code>\n",
    "OLD: scf.RHF(mol)\n",
    "NEW: dft.RKS(mol).set(xc='b3lyp')\n",
    "</code>\n",
    "\n",
    "\n",
    "- the equivalent part for mol_opt\n",
    "\n",
    "- output directory\n",
    "<code>\n",
    "OLD:\n",
    "os.makedirs(\"ouputs/H2/RHF/\",exist_ok=True)\n",
    "mol.output=\"ouputs/H2/RHF/verbose.out\"  \n",
    "NEW:\n",
    "os.makedirs(\"ouputs/H2/B3LYP/\",exist_ok=True)\n",
    "mol.output=\"ouputs/H2/B3LYP/verbose.out\"\n",
    "</code>"
   ]
  },
  {
   "cell_type": "code",
   "execution_count": null,
   "metadata": {},
   "outputs": [],
   "source": [
    "#Add code\n",
    "\n",
"\n"
   ]
  },
  {
   "cell_type": "markdown",
   "metadata": {},
   "source": [
    "<b><i>QUESTION-19:</i></b> How many geometry optimisation cycles have been performed?"
   ]
  },
  {
   "cell_type": "raw",
   "metadata": {},
   "source": [
    "ANSWER: click to write your answer in this box.\n",
    "\n",
    "\n",
    "\n",
    "-\n",
    "\n",
"\n"
   ]
  },
  {
   "cell_type": "markdown",
   "metadata": {},
   "source": [
    "<b><i>QUESTION-20:</i></b> \n",
    "\n",
    "What is the percentage error of the H-H bond distance with respect to the expemental value?\n",
    "(write your answer in the cell below).\n",
    "\n",
    "Is the calculated value understated or overestimated?\n"
   ]
  },
  {
   "cell_type": "raw",
   "metadata": {},
   "source": [
    "ANSWER: click to write your answer in this box.\n",
    "\n",
    "\n",
    "\n",
    "-\n",
    "\n",
"\n"
   ]
  },
  {
   "cell_type": "markdown",
   "metadata": {},
   "source": [
    "<b><i>EXE-40:</i></b> In the mol_opt object, the B3LYP optimised geometry is saved.\n",
    "\n",
    "Use this geometry to run a new optimisation.\n",
    "\n",
    "Assign the new geometry to a new variable: mol_reopt"
   ]
  },
  {
   "cell_type": "code",
   "execution_count": null,
   "metadata": {},
   "outputs": [],
   "source": [
    "#Add code\n",
    "\n",
    "\n",
"\n"
   ]
  },
  {
   "cell_type": "markdown",
   "metadata": {},
   "source": [
    "<b><i>QUESTION-21:</i></b> How many geometry optimisation cycles have been performed in the second optimisation?"
   ]
  },
  {
   "cell_type": "raw",
   "metadata": {},
   "source": [
    "ANSWER: click to write your answer in this box.\n",
    "\n",
    "\n",
    "\n",
    "-\n",
    "\n",
"\n"
   ]
  },
  {
   "cell_type": "markdown",
   "metadata": {},
   "source": [
    "<b><i>EXE-41:</i></b> To conclude this section, in a similar way to the function\n",
    "my_run_STO_RHF_opt(formula), \n",
    "using the code in the previous cell, define a function called:\n",
    "\n",
    "my_run_STO_B3LYP_opt(formula)\n",
    "\n",
    "Given the chemical formula, the function should return the optimised geometry obtained with an sto-3g basis set and the B3LYP functional."
   ]
  },
  {
   "cell_type": "code",
   "execution_count": null,
   "metadata": {},
   "outputs": [],
   "source": [
    "#Add code\n",
    "\n",
"\n"
   ]
  },
  {
   "cell_type": "markdown",
   "metadata": {},
   "source": [
    "<a href=\"main.ipynb\">Main</a> <a href=\"molecules_simulation.ipynb\">Next</a>"
   ]
  }
 ],
 "metadata": {
  "kernelspec": {
   "display_name": "Python 3",
   "language": "python",
   "name": "python3"
  },
  "language_info": {
   "codemirror_mode": {
    "name": "ipython",
    "version": 3
   },
   "file_extension": ".py",
   "mimetype": "text/x-python",
   "name": "python",
   "nbconvert_exporter": "python",
   "pygments_lexer": "ipython3",
   "version": "3.7.4"
  }
 },
 "nbformat": 4,
 "nbformat_minor": 2
}
