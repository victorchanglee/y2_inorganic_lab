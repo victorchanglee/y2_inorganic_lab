{
 "cells": [
  {
   "cell_type": "markdown",
   "metadata": {},
   "source": [
    "# The H2 molecule: energy calculation"
   ]
  },
  {
   "cell_type": "markdown",
   "metadata": {},
   "source": [
    "In this jupyter-notebook a quantum-mechanical simulation of the H2 molecule will be performed by using the code pyscf.\n",
    "\n",
    "\n",
    "The first aim of a quantum mechanical simulation is to solve the Schrodinger equation, in order to obtain the ground state energy and wavefunction, from which the properties of the system under investigation can be calculated."
   ]
  },
  {
   "cell_type": "markdown",
   "metadata": {},
   "source": [
    "<b><i>EXE-20:</i></b> Create a H2 molecule using ASE commands and save it in the variable \n",
    "ASE_mol_H2. Print the coordinates and the atomic numbers of the atoms.\n",
    "\n",
    "This is the first step in a simulation of a molecule."
   ]
  },
  {
   "cell_type": "code",
   "execution_count": null,
   "metadata": {},
   "outputs": [],
   "source": [
    "#Add code\n",
    "\n",
    "\n"
   ]
  },
  {
   "cell_type": "markdown",
   "metadata": {},
   "source": [
    "---"
   ]
  },
  {
   "cell_type": "markdown",
   "metadata": {},
   "source": [
    "<b>The Schoedinger equation</b>"
   ]
  },
  {
   "cell_type": "markdown",
   "metadata": {},
   "source": [
    "Now that the geometry has been defined in previous code cell.\n",
    "\n",
    "The second step is to define the theory to be applied in order to solve the Schrodinger equation:\n",
    "\n",
    "$\\hat{H} \\psi_0 = E_0 \\psi_0 $\n",
    "\n",
    "where \n",
    "\n",
    "- $\\hat{H}$ is the hamiltonian\n",
    "- $\\psi_0$ is the wavefunction of the system (i.e. the molecule)\n",
    "- $E_0$ is the ground state energy\n",
    "\n",
    "The Schrodinger equation can be solved exactly (analytically) only for the hydrogen atom and for the hydrogenic ions (i.e. ones with a single electron):\n",
    "\n",
    "He$^{+}$,Li$^{2+}$,Be$^{3+}$ and so on ... U$^{91+}$\n",
    "\n",
    "The wavefunction of the system depends on the coordinates of the electrons and on the coordinates of the nuclei.\n",
    "\n",
    "#### The Born-Oppenimer approximation\n",
    "To simplify the problem the Born-Oppenimer approximation is adopted.\n",
    "The mass of a proton is 1840 times larger than that of an electron;\n",
    "therefore, it can be assumed that nuclei move much slower than the electrons and their coordinates can be fixed and treated as parameters in the wavefunction.\n",
    "The resulting electronic wavefunction can be combined with the electronic hamiltonian, resulting in the electronic Schrodinger equation."
   ]
  },
  {
   "cell_type": "markdown",
   "metadata": {},
   "source": [
    "####  The mean field theory \n",
    "The motion of each electron is strongly coupled to the motion of the others.\n",
    "To solve the Schrodinger equation is a many-body problem (also within the Born-Oppenimer approximation).\n",
    "The main idea of mean field theory is to replace all interactions to any one electron with an average or effective interaction.\n",
    "The potential of all the other electrons on any given electron is approximated by a single averaged potential; this allow us to reduce a many-body problem to a one-body problem. "
   ]
  },
  {
   "cell_type": "markdown",
   "metadata": {},
   "source": [
    "#### Quantum mechanical programs."
   ]
  },
  {
   "cell_type": "markdown",
   "metadata": {},
   "source": [
    "To solve the electronic Schrodinger equation is  still not an easy task and requires the use of a program in which the theories (i.e. the mean field theory) and approximations have been implemented. The cost increases as a function of the size of the system (i.e. number of atoms in the molecule). \n",
    "\n",
    "There are various quantum-mechanical programs available to the chemistry, materials science\n",
    "and physics community.\n",
    "\n",
    "Examples:\n",
    "\n",
    "- gamess-uk\n",
    "- gamess-us\n",
    "- gaussian (http://gaussian.com/)\n",
    "- molpro (https://www.molpro.net/)\n",
    "- nwchem\n",
    "- orca \n",
    "- turbomol\n",
    "- pyscf"
   ]
  },
  {
   "cell_type": "markdown",
   "metadata": {},
   "source": [
    "<b>The code pyscf</b>\n",
    "\n",
    "PySCF (https://sunqm.github.io/pyscf) is an open-source general-purpose collection of electronic structure modules natively implemented in python.\n",
    "\n",
    "Almost all of PySCF features are implemented using python; numerically intensive parts are implemented in the C language as that runs far faster."
   ]
  },
  {
   "cell_type": "markdown",
   "metadata": {},
   "source": [
    "<b><i>EXE-21:</i></b> Uncomment and execute the following lines \n",
    "    to import the module <b>gto</b> from pyscf.\n",
    "    \n",
    "This module is used for non-periodic simulations (i.e. molecules)."
   ]
  },
  {
   "cell_type": "code",
   "execution_count": null,
   "metadata": {},
   "outputs": [],
   "source": [
    "#from pyscf import gto \n",
    "\n",
    "#OPTIONAL: uncomment this line to find the python type.\n",
    "#type(gto)\n",
    "\n",
    "\n"
   ]
  },
  {
   "cell_type": "markdown",
   "metadata": {},
   "source": [
    "<b><i>EXE-22:</i></b> Define an object for running the calculation of the H2 molecule.\n",
    "Just to give the idea of the following line:\n",
    "\n",
    "<code>\n",
    "    mol = gto.Mole()\n",
    "</code>\n",
    "\n",
    "this declaration is like defining an empty list.\n",
    "Uncomment and execute the line below. \n",
    "\n",
    "The name of this object can be anything (for instance pyscf_input_molecule) \n",
    "\n",
    "for simplity it is called \"mol\". \n",
    "Please note that the \"mol\" object will be used in the next cell."
   ]
  },
  {
   "cell_type": "code",
   "execution_count": null,
   "metadata": {},
   "outputs": [],
   "source": [
    "#mol = gto.Mole()\n",
    "\n",
    "\n"
   ]
  },
  {
   "cell_type": "markdown",
   "metadata": {},
   "source": [
    "<b>The pyscf geometry format</b>"
   ]
  },
  {
   "cell_type": "markdown",
   "metadata": {},
   "source": [
    "The geometry of the H2 molecule created with ASE\n",
    "has to be converted in the PySCF form by using the function defined below. \n",
    "\n",
    "<b><i>EXE-23:</i></b> Use the function ASE_geom_to_pyscf_geom() defined below as\n",
    "\n",
    "<code>\n",
    "def ASE_geom_to_pyscf_geom(ASE_geom):\n",
    "    return [[atom.symbol,atom.position] for atom in ASE_geom]  \n",
    "</code>\n",
    "\n",
    "to convert the ASE_geom\n",
    "into pyscf_geom. \n",
    "Use the variable <b>pyscf_mol_H2</b> for the new geometry.\n",
    "Then print the new format of the geometry."
   ]
  },
  {
   "cell_type": "code",
   "execution_count": null,
   "metadata": {},
   "outputs": [],
   "source": [
    "def ASE_geom_to_pyscf_geom(ASE_geom):\n",
    "    return [[atom.symbol,atom.position] for atom in ASE_geom]\n",
    "\n",
    "\n",
    "#Add code\n",
    "\n",
    "\n"
   ]
  },
  {
   "cell_type": "markdown",
   "metadata": {},
   "source": [
    "<b><i>EXE-24:</i></b> In order to load the geometry of the H2 molecule in the <b>mol</b> object, copy and paste in the code cell below this line:\n",
    "\n",
    "<pre>\n",
    "mol.atom = pyscf_mol_H2\n",
    "</pre>"
   ]
  },
  {
   "cell_type": "code",
   "execution_count": null,
   "metadata": {},
   "outputs": [],
   "source": [
    "#geometry\n",
    "#Add code\n",
    "\n",
    "\n"
   ]
  },
  {
   "cell_type": "markdown",
   "metadata": {},
   "source": [
    "<b>The basis set</b>"
   ]
  },
  {
   "cell_type": "markdown",
   "metadata": {},
   "source": [
    "The name of the <b>gto</b> module that has been imported derives from\n",
    "Gaussian Type Orbitals. Gaussian functions are used as a basis to describe the atomic orbital (AO), in particular the radial part.\n",
    "The choice of gaussian functions for the radial part of an AO is mainly computational, since the product of two gaussian functions is a gaussian function displaced with respect to the starting ones; the exponent and the position of the resultant gaussian can be written in terms of the exponents and the positions of the two original functions.\n",
    "\n",
    "In a minimal basis set, the number of basis functions is equal to the number of occupied atomic orbitals of the considered atom. The mininal basis set of H, for instance, has one function. The mininal basis set for Ne consists of 5 functions (corresponding to the 1s, 2s, 2p$_x$, 2p$_x$ and 2p$_z$  orbitals).  The mininal basis set for B is made of 5 functions too.\n",
    "\n",
    "In the following exercise a \"sto-3g\" is adopted, which is a mininal basis set. In this type of basis, each atomic orbital is expressed a linear combination of three gassian functions (3g), the coeffiecients of this combination have been obtained by fitting a single Slater-type orbital (STO).\n",
    "Slater-type orbitals would be the best choice for the radial part\n",
    "from a physical point of view, since they decay exponentially and have a cusp at the position of the nuclei.\n",
    "The product of two STOs on distinct atoms is more difficult to express than those of Gaussian functions."
   ]
  },
  {
   "cell_type": "markdown",
   "metadata": {},
   "source": [
    "---"
   ]
  },
  {
   "cell_type": "markdown",
   "metadata": {},
   "source": [
    "<b><i>EXE-25:</i></b> The .basis variable of the <b>mol</b> object can be used to choose the type of basis set.\n",
    "\n",
    "Execute the cell below."
   ]
  },
  {
   "cell_type": "code",
   "execution_count": null,
   "metadata": {},
   "outputs": [],
   "source": [
    "#basis set\n",
    "mol.basis = \"sto-3g\"\n",
    "print(\"pyscf molecule module set: basis set selected\")"
   ]
  },
  {
   "cell_type": "markdown",
   "metadata": {},
   "source": [
    "<b><i>QUESTION-10:</i></b> When a \"sto-3g\" is adopted, how many gaussian function are necessary \n",
    "to describe an hydrogen atom? \n",
    "How many for a Be atom?"
   ]
  },
  {
   "cell_type": "raw",
   "metadata": {},
   "source": [
    "ANSWER: click to write your answer in this box.\n",
    "\n",
    "\n"
   ]
  },
  {
   "cell_type": "markdown",
   "metadata": {},
   "source": [
    "<b>The object building</b>"
   ]
  },
  {
   "cell_type": "markdown",
   "metadata": {},
   "source": [
    "Use the method .atom_coords() for the <b>mol</b> object and print the atomic coordinates of the atoms\n",
    "\n",
    "in the line above and below the .build() method.\n",
    "\n",
    "<code>\n",
    "print(mol.atom_coords())\n",
    "</code>\n",
    "\n",
    "\n",
    "\n",
    "After the .build() method is executed, the coordinates are converted from Angstrom to atomic units\n",
    "\n",
    "(Bohr is the atomic unit for a length, there is roughly a factor of 2).\n",
    "\n",
    "Add also the following line below the  .build() method, to select the output unit of the coordinates.\n",
    "\n",
    "<code>\n",
    "print(mol.atom_coords(unit=\"Angstrom\"))\n",
    "</code>\n",
    "\n",
    "Execute code cell below to build the <b>mol</b> object."
   ]
  },
  {
   "cell_type": "code",
   "execution_count": null,
   "metadata": {},
   "outputs": [],
   "source": [
    "#building mol\n",
    "mol.build()\n",
    "\n",
    "\n",
    "\n"
   ]
  },
  {
   "cell_type": "markdown",
   "metadata": {},
   "source": [
    "<b>The hamiltonian</b> "
   ]
  },
  {
   "cell_type": "markdown",
   "metadata": {},
   "source": [
    "In the following exercise, we will use an Hartree-Fock hamiltonian.\n",
    "The Hartree-Fock method "
   ]
  },
  {
   "cell_type": "markdown",
   "metadata": {},
   "source": [
    "<b><i>EXE-26:</i></b> Add in the code cell below the following lines:\n",
    "\n",
    "<code>\n",
    "from pyscf import scf\n",
    "mf_class=scf.RHF(mol)  \n",
    "print(\"pyscf mean field module: hamiltonian selected\")    \n",
    "</code>\n",
    "that defines the hamiltonian used. In this case, the Restriced Hartee-Fock (RHF) is adopted.\n",
    "\n",
    "In the <b>Restricted</b> formalism, the energy level of a spin-up electron is equal to that of the corresponding spin-down electron; all the paired electrons in the system occupy the same energy level.\n",
    "In the <b>Unrestricted</b> formalism, this contrain is not imposed;\n",
    "the latter formalism has both its pros and cons.\n"
   ]
  },
  {
   "cell_type": "code",
   "execution_count": null,
   "metadata": {},
   "outputs": [],
   "source": [
    "#Hamiltonian\n",
    "### mean field class in pyscf\n",
    "#Add code \n",
    "\n",
    "\n",
    "\n"
   ]
  },
  {
   "cell_type": "markdown",
   "metadata": {},
   "source": [
    "<b>The execution</b> "
   ]
  },
  {
   "cell_type": "markdown",
   "metadata": {},
   "source": [
    "<b><i>EXE-27:</i></b> To run the simulation, the method .run() has to be executed.\n",
    "This method returns the energy of the ground state. The energy is stored\n",
    "at the end of the execution in the variable E_0.\n",
    "\n",
    "<pre>\n",
    "E_0=mf_class.run() \n",
    "</pre>\n",
    "or\n",
    "<pre>\n",
    "E_0=mf_class.kernel()\n",
    "</pre>\n",
    "\n",
    "They are equivalent, in principle. However, in some cases the .run() does not return the energy. Please use <b>.kernel()</b>."
   ]
  },
  {
   "cell_type": "code",
   "execution_count": null,
   "metadata": {},
   "outputs": [],
   "source": [
    "#Add code\n",
    "#execution\n",
    "\n",
    "\n"
   ]
  },
  {
   "cell_type": "markdown",
   "metadata": {},
   "source": [
    "---"
   ]
  },
  {
   "cell_type": "markdown",
   "metadata": {},
   "source": [
    "<b><i>EXE-28:</i></b> All the parts necessary to run a quantum-mechanical simulation using a minimal basis set and a Restricted Hartree-Fock hamiltonian have been presented.\n",
    "\n",
    "The general procedure for a QM simulation is:\n",
    "* **Geometry** - build the molecule you wish to simulate\n",
    "* Set the **simulation method** - this is the basis set and hamiltonian\n",
    "* **Run** the simulation\n",
    "* **Analyse** the results\n",
    "\n",
    "You now need to combine all the previous steps in to one code block. This means that you then have a single, contained workflow that you can use (copy and paste) in the next sections to build a molecule and run a QM simulation on it. This code block will be your $\\color{blue}{\\text{REFERENCE-1}}$ code.\n",
    "\n",
    "In the following cell, copy and paste all the previous parts from the notebook to set up a simulation (building your molecule with ASE, setting the pyscf geometry, setting the basis set, building the pyscf object, setting the hamiltonian) and the final command to run the executuion.\n",
    "\n",
    "To test that you have a single workflow of functioning code, on the top toolbar go to \"Kernel\" (it is on the same line of \"File\", \"Edit) \n",
    "\n",
    "Select \"Restart & Clear Output\" and then run the code cell below."
   ]
  },
  {
   "cell_type": "markdown",
   "metadata": {},
   "source": [
    "$\\color{blue}{\\text{REFERENCE-1}}$: Please use the code in the code cell below as your reference for the next sessions."
   ]
  },
  {
   "cell_type": "code",
   "execution_count": null,
   "metadata": {},
   "outputs": [],
   "source": [
    "#REFERENCE-1\n",
    "#Add code\n",
    "\n",
    "\n",
    "\n",
    "\n"
   ]
  },
  {
   "cell_type": "markdown",
   "metadata": {},
   "source": [
    "<b><i>EXE-29:</i></b> Copy the code above in to the cell below and add the line\n",
    "\n",
    "<code>\n",
    "    mol.output=\"H2.out\"\n",
    "</code>\n",
    "\n",
    "before mol.build(). \n",
    "\n",
    "The output of the simulation will be directed into the file\n",
    "and it will not be printed in jupyter-notebook.\n",
    "\n",
    "\n",
    "To organise files, it might be more useful to create a folder (also called <b>dir</b>ectory) and to save the file into the folder.\n",
    "Before adding the following lines in your code cell, remove mol.output=\"H2.out\"\n",
    "\n",
    "<code>\n",
    "    import os\n",
    "    os.makedirs(\"ouputs/H2/RHF\",exist_ok=True)\n",
    "    mol.output=\"ouputs/H2/RHF/default.out\"\n",
    "</code>"
   ]
  },
  {
   "cell_type": "code",
   "execution_count": null,
   "metadata": {},
   "outputs": [],
   "source": [
    "#Add code\n",
    "\n",
    "\n",
    "\n",
    "\n"
   ]
  },
  {
   "cell_type": "markdown",
   "metadata": {},
   "source": [
    "<b><i>EXE-30:</i></b> The level of details in the output is controlled by the variable mol.verbose\n",
    "<pre>\n",
    "default:   mol.verbose = 3\n",
    "max value: mol.verbose = 9\n",
    "</pre>\n",
    "Generate the output for mol.verbose = 9, \n",
    "<code>\n",
    "    mol.verbose = 9\n",
    "    import os\n",
    "    os.makedirs(\"ouputs/H2/RHF\",exist_ok=True)\n",
    "    mol.output=\"ouputs/H2/RHF/verbose.out\"\n",
    "</code>"
   ]
  },
  {
   "cell_type": "code",
   "execution_count": null,
   "metadata": {},
   "outputs": [],
   "source": [
    "#Add code\n",
    "\n",
    "\n",
    "\n"
   ]
  },
  {
   "cell_type": "markdown",
   "metadata": {},
   "source": [
    "<b>Properties</b>"
   ]
  },
  {
   "cell_type": "markdown",
   "metadata": {},
   "source": [
    "Once the wavefunction of the ground state of the system under investigation has been calculated, the electronic properties can be analysed in terms of molecular obitals, which are expressed as a linear combination of atomics orbitals. The coefficients in the combination allows us to identify (numerically) the nature of the orbital. \n",
    "\n",
    "\n",
    "The core molecular obitals, which are the molecular orbitals occupied by core electrons (electrons that are not valence electrons) \n",
    "will have a dominant contribution coming from the atomic orbitals of a single atom.\n",
    "This will be particular evident in Part 3 of this computational lab."
   ]
  },
  {
   "cell_type": "markdown",
   "metadata": {},
   "source": [
    "<b><i>EXE-31:</i></b> Copy the code from the cell above in the next code cell.\n",
    "\n",
    "\n",
    "- Add the following lines at the end of the code\n",
    "<pre>\n",
    "#properties\n",
    "mf_class.analyze() \n",
    "print(\"done\")\n",
    "</pre>\n",
    "The .analyze() method prints out the molecular orbitals and their occupations. \n",
    "\n",
    "- The symmetry label of each molecular orbital can be printed by running the whole calculation with symmetry.\n",
    "\n",
    "To activate the symmetry, the calculation needs to be performed with the keyword. Add the line before mol.build().\n",
    "<code>\n",
    "    mol.symmetry=True\n",
    "</code>\n",
    "\n",
    "The Mulliken atomic charges are also printed \n",
    "(this is a scheme to partition the total charge of a molecule amongst the individual atoms)."
   ]
  },
  {
   "cell_type": "markdown",
   "metadata": {},
   "source": [
    "$\\color{blue}{\\text{REFERENCE-2}}$: Please use the code in the code cell below as a reference for next sessions."
   ]
  },
  {
   "cell_type": "code",
   "execution_count": null,
   "metadata": {},
   "outputs": [],
   "source": [
    "#REFERENCE-2\n",
    "#Add code\n",
    "\n",
    "\n"
   ]
  },
  {
   "cell_type": "markdown",
   "metadata": {},
   "source": [
    "<b><i>EXE-32:</i></b> Look in the outputs folder for the file verbose.out.\n",
    "\n",
    "At the bottom of the file, look for \n",
    "<pre>\n",
    "**** MO energy ****\n",
    "</pre>\n",
    "\n",
    "The program pyscf prints in the output \n",
    "- The molecular orbital energies under the heading:\n",
    "<pre>\n",
    "**** MO energy ****\n",
    "</pre>\n",
    "- The Mulliken atomic charges under the heading:\n",
    "<pre>\n",
    "** Mulliken atomic charges  **\n",
    "</pre>\n",
    "In particular, the program prints the net Mulliken atomic charges,\n",
    "which are equal to the difference between the atomic number Z and the number of electrons attibuted to a particular atom, according to a scheme based on the coefficients of each atomic orbital in each molecular orbitals.\n",
    "$ q_{atom} = Z - N_{electrons} $"
   ]
  },
  {
   "cell_type": "markdown",
   "metadata": {},
   "source": [
    "#Add code\n",
    "\n",
    "\n"
   ]
  },
  {
   "cell_type": "markdown",
   "metadata": {},
   "source": [
    "<b><i>QUESTION-11:</i></b> Which are the coeffients of the atomic orbitals in the bonding and antibonding molecular orbitals?"
   ]
  },
  {
   "cell_type": "raw",
   "metadata": {},
   "source": [
    "ANSWER: click to write your answer in this box.\n",
    "\n"
   ]
  },
  {
   "cell_type": "markdown",
   "metadata": {},
   "source": [
    "<a href=\"main.ipynb\">Main</a>   <a href=\"H2_molecule_opt.ipynb\">Next</a>"
   ]
  }
 ],
 "metadata": {
  "kernelspec": {
   "display_name": "Python 3",
   "language": "python",
   "name": "python3"
  },
  "language_info": {
   "codemirror_mode": {
    "name": "ipython",
    "version": 3
   },
   "file_extension": ".py",
   "mimetype": "text/x-python",
   "name": "python",
   "nbconvert_exporter": "python",
   "pygments_lexer": "ipython3",
   "version": "3.7.6"
  }
 },
 "nbformat": 4,
 "nbformat_minor": 2
}
