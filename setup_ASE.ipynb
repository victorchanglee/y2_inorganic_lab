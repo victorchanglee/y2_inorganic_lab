{
 "cells": [
  {
   "cell_type": "markdown",
   "metadata": {},
   "source": [
    "# Setup ASE"
   ]
  },
  {
   "cell_type": "markdown",
   "metadata": {},
   "source": [
    "In the following computational experiment, ASE will be adopted.\n",
    "\n",
    "The Atomic Simulation Environment (ASE) is a set of tools \n",
    "\n",
    "and Python modules for setting up, manipulating, running, \n",
    "\n",
    "visualizing and analyzing atomistic simulations. \n",
    "\n",
    "The code is freely available under the GNU LGPL license.\n",
    "\n",
    "https://wiki.fysik.dtu.dk/ase"
   ]
  },
  {
   "cell_type": "markdown",
   "metadata": {},
   "source": [
    "<b>Installation of ASE</b>"
   ]
  },
  {
   "cell_type": "markdown",
   "metadata": {},
   "source": [
    "In order to run ASE through jupyter-notebook you should have installed ASE by following either the Windows or Mac/Linux software instructions."
   ]
  },
  {
   "cell_type": "markdown",
   "metadata": {},
   "source": [
    "EXE: Check your installation by running the following cell."
   ]
  },
  {
   "cell_type": "code",
   "execution_count": 1,
   "metadata": {},
   "outputs": [
    {
     "name": "stdout",
     "output_type": "stream",
     "text": [
      "ASE Found\n",
      "Well done - move to the next section\n"
     ]
    }
   ],
   "source": [
    "from ase.visualize import view\n",
    "\n",
    "print(\"ASE Found\")\n",
    "print(\"Well done - move to the next section\")"
   ]
  },
  {
   "cell_type": "markdown",
   "metadata": {},
   "source": [
    "If ASE couldn't be found,  look for HELP from one of the demonstrators.\n",
    "\n",
    "You can also try installing it by executing the following command in the conda prompt:\n",
    "\n",
    "`conda install -c conda-forge ase`\n"
   ]
  },
  {
   "cell_type": "markdown",
   "metadata": {},
   "source": [
    "<a href=\"main.ipynb\">Back</a>"
   ]
  }
 ],
 "metadata": {
  "kernelspec": {
   "display_name": "Python 3",
   "language": "python",
   "name": "python3"
  },
  "language_info": {
   "codemirror_mode": {
    "name": "ipython",
    "version": 3
   },
   "file_extension": ".py",
   "mimetype": "text/x-python",
   "name": "python",
   "nbconvert_exporter": "python",
   "pygments_lexer": "ipython3",
   "version": "3.7.3"
  }
 },
 "nbformat": 4,
 "nbformat_minor": 2
}
