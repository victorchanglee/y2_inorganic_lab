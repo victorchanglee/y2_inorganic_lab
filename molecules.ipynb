{
 "cells": [
  {
   "cell_type": "markdown",
   "metadata": {},
   "source": [
    "# Molecules: geometry and visualization"
   ]
  },
  {
   "cell_type": "markdown",
   "metadata": {},
   "source": [
    "In ASE, molecule can be generated using the chemical formula.\n",
    "\n",
    "The following line needs to executed:\n",
    "\n",
    "<code>\n",
    "from ase.build import molecule as ASE_Molecule_builder\n",
    "</code>\n",
    "\n",
    "See list of molecules available:\n",
    "https://wiki.fysik.dtu.dk/ase/ase/build/build.html\n",
    "\n",
    "This section consists of the following subsections:\n",
    "\n",
    "0) The H2 molecule\n",
    "\n",
    "1) The HF molecule\n",
    "\n",
    "2) The H2O molecule\n",
    "\n",
    "3) The NH3 molecule\n",
    "\n",
    "4) The PH3 molecule\n",
    "\n",
    "5) The SiH4 molecule"
   ]
  },
  {
   "cell_type": "markdown",
   "metadata": {},
   "source": [
    "<b><i>EXE-10:</i></b> Execute the following line to generate the H2 molecule automatically"
   ]
  },
  {
   "cell_type": "code",
   "execution_count": null,
   "metadata": {},
   "outputs": [],
   "source": [
    "from ase.build import molecule as ASE_Molecule_builder\n",
    "\n",
    "ASE_mol_H2 = ASE_Molecule_builder('H2')"
   ]
  },
  {
   "cell_type": "markdown",
   "metadata": {},
   "source": [
    "<b><i>EXE-11:</i></b> Copy the code above in cell below and \n",
    "\n",
    "use the method \".get_positions()\" to print the position of the atoms.\n",
    "\n",
    "Use the method \".get_atomic_numbers()\" to print the atomic numbers.\n",
    "\n",
    "Add also these statements to make your output more readable:\n",
    "\n",
    "<code>\n",
    "print(\"The coordinates are:\")\n",
    "print(\"The atomic numbers are:\")\n",
    "</code>"
   ]
  },
  {
   "cell_type": "code",
   "execution_count": null,
   "metadata": {},
   "outputs": [],
   "source": [
    "#Add code\n",
    "\n",
    "\n",
"\n"
   ]
  },
  {
   "cell_type": "markdown",
   "metadata": {},
   "source": [
    "<b><i>QUESTION-3:</i></b> which are the coordinates of the centre of mass of the molecule?"
   ]
  },
  {
   "cell_type": "raw",
   "metadata": {},
   "source": [
    "ANSWER: click to write your answer in this box.\n",
    "\n"
   ]
  },
  {
   "cell_type": "markdown",
   "metadata": {},
   "source": [
    "<b><i>EXE-12:</i></b> The following method will print the centre of mass. Check your answer!\n",
    "\n",
    "\".get_center_of_mass()\"\n",
    "\n",
    "Add also this statement to the output:\n",
    "\n",
    "<code>\n",
    "print(\"The coordinates of the center of mass are:\")\n",
    "</code>"
   ]
  },
  {
   "cell_type": "code",
   "execution_count": null,
   "metadata": {},
   "outputs": [],
   "source": [
    "#Add code\n",
    "\n",
    "\n",
"\n"
   ]
  },
  {
   "cell_type": "markdown",
   "metadata": {},
   "source": [
    "<b><i>EXE-13:</i></b> The following method will print the distance between the two atoms, which are labelled as 0 and 1.\n",
    "    \n",
    "\".get_distance(0,1)\"\n",
    "\n",
    "Add also this statement to make your output more readable:\n",
    "\n",
    "<code>\n",
    "print(\"The distance between atom 0 and atom 1 is:\")\n",
    "</code>\n",
    "\n"
   ]
  },
  {
   "cell_type": "code",
   "execution_count": null,
   "metadata": {},
   "outputs": [],
   "source": [
    "#Add code\n",
    "\n",
    "\n",
"\n"
   ]
  },
  {
   "cell_type": "markdown",
   "metadata": {},
   "source": [
    "<b><i>QUESTION-4:</i></b> Which is the unit of the bond distance? Which is the unit of the coordinates?"
   ]
  },
  {
   "cell_type": "raw",
   "metadata": {},
   "source": [
    "ANSWER: click to write your answer in this box.\n",
    "\n"
   ]
  },
  {
   "cell_type": "markdown",
   "metadata": {},
   "source": [
    "<b><i>EXE-14:</i></b> Add the following lines in the code cell below to visualise the structure.\n",
    "\n",
    "<code>\n",
    "from ase.visualize import view as ASE_view\n",
    "ASE_view(ASE_mol_H2)\n",
    "</code>\n",
    "\n",
    "To visualise the bond, go under \"View\" and select \"Show bonds\""
   ]
  },
  {
   "cell_type": "code",
   "execution_count": null,
   "metadata": {},
   "outputs": [],
   "source": [
    "from ase.build import molecule as ASE_Molecule_builder\n",
    "ASE_mol_H2 = ASE_Molecule_builder('H2')\n",
    "\n",
    "#Add code\n",
    "\n",
"\n"
   ]
  },
  {
   "cell_type": "markdown",
   "metadata": {},
   "source": [
    "==="
   ]
  },
  {
   "cell_type": "markdown",
   "metadata": {},
   "source": [
    "<b>The HF molecule</b>"
   ]
  },
  {
   "cell_type": "markdown",
   "metadata": {},
   "source": [
    "<b><i>EXE-15:</i></b> Use the ASE builder to generate a molecule of HF, then visualize the structure.\n",
    "\n",
    "Print the position of the atoms,  the bond distance and the center of mass.\n",
    "\n",
    "The method .get_masses() will print the mass of both atoms.\n",
    "\n",
    "Cut, paste and adapt the code used in previous cell."
   ]
  },
  {
   "cell_type": "code",
   "execution_count": null,
   "metadata": {},
   "outputs": [],
   "source": [
    "#Add code \n",
    "\n",
    "\n",
"\n"
   ]
  },
  {
   "cell_type": "markdown",
   "metadata": {},
   "source": [
    "<b><i>QUESTION-5:</i></b> Which is atom 0? Fluorine or hydrogen?"
   ]
  },
  {
   "cell_type": "raw",
   "metadata": {},
   "source": [
    "ANSWER: click to write your answer in this box.\n",
    "\n"
   ]
  },
  {
   "cell_type": "markdown",
   "metadata": {},
   "source": [
    "<b>The H2O molecule</b>"
   ]
  },
  {
   "cell_type": "markdown",
   "metadata": {},
   "source": [
    "<b><i>EXE-16:</i></b> Adapt the code from previous exercise to generate H2O.\n",
    "\n",
    "Use the method .get_distance() to print the all the distances.\n",
    "\n",
    "Use the method .get_angle() to get the angle HOH, which requires 3 numbers.\n"
   ]
  },
  {
   "cell_type": "code",
   "execution_count": null,
   "metadata": {},
   "outputs": [],
   "source": [
    "#Add code\n",
    "\n",
    "\n",
"\n"
   ]
  },
  {
   "cell_type": "markdown",
   "metadata": {},
   "source": [
    "<b><i>QUESTION-6:</i></b> Where is the center of mass?"
   ]
  },
  {
   "cell_type": "raw",
   "metadata": {},
   "source": [
    "ANSWER: click to write your answer in this box.\n",
    "\n"
   ]
  },
  {
   "cell_type": "markdown",
   "metadata": {},
   "source": [
    "==="
   ]
  },
  {
   "cell_type": "markdown",
   "metadata": {},
   "source": [
    "<b>The NH3 molecule</b>"
   ]
  },
  {
   "cell_type": "markdown",
   "metadata": {},
   "source": [
    "<b><i>EXE-17:</i></b> Adapt the code from previous exercise about H2O to generate NH3.\n",
    "\n",
    "Use the method .get_angle() to get the angle HNH."
   ]
  },
  {
   "cell_type": "code",
   "execution_count": null,
   "metadata": {
    "scrolled": true
   },
   "outputs": [],
   "source": [
    "#Add code \n",
    "\n",
"\n"
   ]
  },
  {
   "cell_type": "markdown",
   "metadata": {},
   "source": [
    "<b><i>QUESTION-7:</i></b> Where is the center of mass? What is the value of the angle HNH?"
   ]
  },
  {
   "cell_type": "raw",
   "metadata": {},
   "source": [
    "ANSWER: click to write your answer in this box.\n",
    "\n"
   ]
  },
  {
   "cell_type": "markdown",
   "metadata": {},
   "source": [
    "<b>The PH3 molecule</b>"
   ]
  },
  {
   "cell_type": "markdown",
   "metadata": {},
   "source": [
    "<b><i>EXE-18:</i></b> Adapt the code from previous exercise about NH3 to generate PH3.\n",
    "\n",
    "Use the method .get_angle() to get the angle HPH."
   ]
  },
  {
   "cell_type": "code",
   "execution_count": null,
   "metadata": {},
   "outputs": [],
   "source": [
    "#Add code\n",
    "\n",
    "\n",
"\n"
   ]
  },
  {
   "cell_type": "markdown",
   "metadata": {},
   "source": [
    "<b><i>QUESTION-8:</i></b> Where is the center of mass? Is the molecule planar? Compare the angles of PH3 with NH3, what kind of hybridisation do you expect in PH3?"
   ]
  },
  {
   "cell_type": "raw",
   "metadata": {},
   "source": [
    "ANSWER: click to write your answer in this box.\n",
    "\n",
    "\n",
"\n"
   ]
  },
  {
   "cell_type": "markdown",
   "metadata": {},
   "source": [
    "<b>The SiH4 molecule</b>"
   ]
  },
  {
   "cell_type": "markdown",
   "metadata": {},
   "source": [
    "<b><i>EXE-19:</i></b> Adapt the code from previous exercise about NH3 to generate SiH4.\n",
    "\n",
    "Use the method .get_angle() to get the angle HSiH."
   ]
  },
  {
   "cell_type": "code",
   "execution_count": null,
   "metadata": {},
   "outputs": [],
   "source": [
    "#Add code\n",
    "\n",
    "\n",
"\n"
   ]
  },
  {
   "cell_type": "markdown",
   "metadata": {},
   "source": [
    "<b><i>QUESTION-9:</i></b> Where is the center of mass? Is the molecule polar? "
   ]
  },
  {
   "cell_type": "raw",
   "metadata": {},
   "source": [
    "ANSWER: click to write your answer in this box.\n",
    "\n"
   ]
  },
  {
   "cell_type": "markdown",
   "metadata": {},
   "source": [
    "<a href=\"main.ipynb\">Main</a>   <a href=\"H2_molecule_energy.ipynb\">Next</a>"
   ]
  }
 ],
 "metadata": {
  "kernelspec": {
   "display_name": "Python 3",
   "language": "python",
   "name": "python3"
  },
  "language_info": {
   "codemirror_mode": {
    "name": "ipython",
    "version": 3
   },
   "file_extension": ".py",
   "mimetype": "text/x-python",
   "name": "python",
   "nbconvert_exporter": "python",
   "pygments_lexer": "ipython3",
   "version": "3.7.4"
  }
 },
 "nbformat": 4,
 "nbformat_minor": 2
}
