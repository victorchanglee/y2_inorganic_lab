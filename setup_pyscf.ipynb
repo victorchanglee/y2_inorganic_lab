{
 "cells": [
  {
   "cell_type": "markdown",
   "metadata": {},
   "source": [
    "# setup pyscf"
   ]
  },
  {
   "cell_type": "markdown",
   "metadata": {},
   "source": [
    "There is a code capable of self-consistent field quantum mechanical simulations: PySCF\n",
    "\n",
    "In the following computational experiment, PySCF will be used to run each simulation.\n",
    "\n",
    "PySCF is a simple quantum mechanical code, written in python and c."
   ]
  },
  {
   "cell_type": "markdown",
   "metadata": {},
   "source": [
    "<b>Installation of pyscf</b>"
   ]
  },
  {
   "cell_type": "markdown",
   "metadata": {},
   "source": [
    "In order to run pyscf through jupyter-notebook, \n",
    "\n",
    "you must have first installed the program from following the relevant instructions for Windows or Mac/Linux."
   ]
  },
  {
   "cell_type": "markdown",
   "metadata": {},
   "source": [
    "EXE: Check your installation by running the following cell.\n",
    "\n",
    "If you execute at the beginning of your jupyter-notebook, pyscf will be available in all of the following code cells"
   ]
  },
  {
   "cell_type": "code",
   "execution_count": 1,
   "metadata": {},
   "outputs": [
    {
     "name": "stdout",
     "output_type": "stream",
     "text": [
      "pyscf Found\n",
      "Move to new session\n"
     ]
    }
   ],
   "source": [
    "from pyscf import gto, scf\n",
    "\n",
    "print(\"pyscf Found\")\n",
    "print(\"Move to next session\")"
   ]
  },
  {
   "cell_type": "markdown",
   "metadata": {},
   "source": [
    "If you get an error, try installing pyscf by excuting the following command in the conda prompt/command line for **Windows systems**:\n",
    "\n",
    "`conda install -c pyscf pyscf`\n",
    "\n",
    "Or excuting the following command in the conda prompt/command line for **Mac systems**:\n",
    "\n",
    "`pip install -U pyberny`\n",
    "\n",
    "If you get an error about not having the pip command, see below.\n",
    "\n",
    "**For any continued or different errors please contact one of the demonstrators**"
   ]
  },
  {
   "cell_type": "markdown",
   "metadata": {},
   "source": [
    "\n",
    "PySCF computes the total energy of a molecular and the forces on the atoms.\n",
    "In order to use these to optimise the geometry we will use another open-source code : PyBerny\n",
    "\n",
    "(<b>NB:</b> this implements a method developed by the famous Quantum Chemist Professor Bernhard Schlegel)"
   ]
  },
  {
   "cell_type": "markdown",
   "metadata": {},
   "source": [
    "EXE: Check your installation by running the following cell.\n"
   ]
  },
  {
   "cell_type": "code",
   "execution_count": null,
   "metadata": {},
   "outputs": [],
   "source": [
    "from pyscf.geomopt.berny_solver import optimize\n",
    "print(\"pyberny Found\")\n",
    "print(\"Move to next session\")"
   ]
  },
  {
   "cell_type": "markdown",
   "metadata": {},
   "source": [
    "If you get an error message try installing it from the command line\n",
    "\n",
    "Make sure you have the pip command - if not install it.\n",
    "\n",
    "- Windows users: \n",
    "https://www.liquidweb.com/kb/install-pip-windows/\n",
    "\n",
    "- Mac users:\n",
    "https://stackoverflow.com/questions/17271319/how-do-i-install-pip-on-macos-or-os-x\n",
    "\n",
    "\n",
    "`pip install -U pyberny`\n",
    "\n",
    "**If there are any errors please contact one of the demonstrators**\n"
   ]
  },
  {
   "cell_type": "markdown",
   "metadata": {},
   "source": [
    "<b>NB:</b> Have you noticed that we are building a of <i> Computational Chemistry Tool Kit </i> by picking up tools developed by other scientists. This is a very powerful way of using Python and the Jupyter Notebook to perform calculations"
   ]
  },
  {
   "cell_type": "markdown",
   "metadata": {},
   "source": [
    "<a href=\"main.ipynb\">Back</a>   <a href=\"H2_molecule_geom.ipynb\">Next</a>"
   ]
  }
 ],
 "metadata": {
  "kernelspec": {
   "display_name": "Python 3",
   "language": "python",
   "name": "python3"
  },
  "language_info": {
   "codemirror_mode": {
    "name": "ipython",
    "version": 3
   },
   "file_extension": ".py",
   "mimetype": "text/x-python",
   "name": "python",
   "nbconvert_exporter": "python",
   "pygments_lexer": "ipython3",
   "version": "3.7.4"
  }
 },
 "nbformat": 4,
 "nbformat_minor": 2
}
