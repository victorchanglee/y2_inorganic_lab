{
 "cells": [
  {
   "cell_type": "markdown",
   "metadata": {},
   "source": [
    "# Setup the lab for Mac/Linux"
   ]
  },
  {
   "cell_type": "markdown",
   "metadata": {},
   "source": [
    "For the computational lab we want to use several software packages that will enable us to run and analyse Quantum Mechanical calculations for several different, simple molecules."
   ]
  },
  {
   "cell_type": "markdown",
   "metadata": {},
   "source": [
    "### Software packages and environments\n",
    "\n",
    "The two main software packages that need to be installed are: \n",
    "* ASE\n",
    "* pyscf\n",
    "\n",
    "More information on both of these programs can be found in the corresponding set up Jupyter notebooks and you will also learn more about them during the lab itself.\n",
    "\n",
    "There are other packages that we also need to install as ASE or pyscf are dependent on them to be able to work. For example, we need to install the software package pyberny, which provides methods that pyscf uses. \n",
    "Sometimes, one software package depends on a specific version of another software to be able to work together. A version of a package is the number that follows it e.g. python 2.6 vs. python 3.7.\n",
    "\n",
    "The software packages that we need can be downloaded individually. However, it is good practice when you are installing a number of packages for a certain task, such as running this computational lab, to create an ‘environment’.\n",
    "\n",
    "A (virtual) environment is simply an isolated collection of specific packages (and specific versions of a package) that you need which is separate to any other installations you currently have.\n",
    "\n",
    "Whenever you want to carry out your certain task, e.g. running your computational lab, you can change to this environment and all the correct software is present and ready to run!"
   ]
  },
  {
   "cell_type": "markdown",
   "metadata": {},
   "source": [
    "### Creating an environment\n",
    "\n",
    "You will be installing an environment on to your laptop that contains all the necessary software packages that you need for the lab.\n",
    "    \n",
    "1. If Anaconda is not already installed, then install it from (https://www.anaconda.com/products/individual) making sure that you install the Python 3.7 version for MacOS\n",
    "2. Download and save the environment file (environment_macos.yml) from Box (https://imperialcollegelondon.box.com/s/r240f07fwdksob320bbolwpak41xjic7)\n",
    " - it is in the same file as the lab notebooks. The file is basically a list of the specific packages required to run the lab.  The list contains: ASE, pyscf, pyberny and Jupyter notebook (with a few others)\n",
    "3. Open **Anaconda navigator** on your computer\n",
    "4. On the left hand menu click on the **‘Environments’** heading\n",
    "5. In the environments section, click on **‘Import’** in the bottom, middle menu\n",
    "6. In the file window that opens, click the file icon by Specification File and navigate to wherever you have saved the **environment_macos.yml** file and **select it**.\n",
    "7. Once selected the ‘Name’ of the environment will automatically fill as ‘pyscf_comp_lab’\n",
    "8. Click **Import** \n",
    "9. The list of packages in the file is now being read and downloaded (including ASE, pyscf and pyberny). Other software packages are also installed that are required for general use. The import may take some time.\n",
    "10. Once complete, the ‘pyscf_comp_lab’ environment should be in you environment list\n",
    "\n",
    "To use the environment for the lab, make sure that you have downloaded the lab files from box. Then:\n",
    "\n",
    "1. In Anaconda Navigator in the ‘Environments’ section, select the ‘pyscf_comp_lab’ environment to activate it (the text will become highlighted in green). Once loaded this is the active working environment.\n",
    "2. Click on the green arrow by the ‘pyscf_comp_lab’  name and select ‘Open with Jupyter Notebook’. In a new browser Jupyter Notebook will open. It will most likely be showing your home directory.\n",
    "3. Navigate to the folder containing your computational lab notebooks. They can now be opened and when they do they will be using the ‘pyscf_comp_lab’  environment to run.\n",
    "\n",
    "**Important: Whenever you open your lab notebooks for each new session you must do the above 3 steps every time. This ensures that you are working in the correct environment to run the software needed.**\n",
    "\n",
    "Check the installation of the software through the setup_ASE and setup_pyscf notebooks, present in the folder downloaded from Box with the lab notebooks.\n"
   ]
  },
  {
   "cell_type": "markdown",
   "metadata": {},
   "source": [
    "<a href=\"main.ipynb\">Back</a>"
   ]
  }
 ],
 "metadata": {
  "kernelspec": {
   "display_name": "Python 3",
   "language": "python",
   "name": "python3"
  },
  "language_info": {
   "codemirror_mode": {
    "name": "ipython",
    "version": 3
   },
   "file_extension": ".py",
   "mimetype": "text/x-python",
   "name": "python",
   "nbconvert_exporter": "python",
   "pygments_lexer": "ipython3",
   "version": "3.7.6"
  }
 },
 "nbformat": 4,
 "nbformat_minor": 4
}
