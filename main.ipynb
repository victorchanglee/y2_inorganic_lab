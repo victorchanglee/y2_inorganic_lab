{
 "cells": [
  {
   "cell_type": "markdown",
   "metadata": {},
   "source": [
    "#   Inorganic Computational Chemistry - Lab"
   ]
  },
  {
   "cell_type": "markdown",
   "metadata": {},
   "source": [
    "## How to simulate stuctural and electronic properties \n",
    "\n",
    "## of various inorganic molecules \n",
    "\n",
    "## through jupyter-notebook"
   ]
  },
  {
   "cell_type": "markdown",
   "metadata": {},
   "source": [
    "## Aims"
   ]
  },
  {
   "cell_type": "markdown",
   "metadata": {},
   "source": [
    "The aims of this lab are:\n",
    "\n",
    "- Use jupyter-notebook as a platform     \n",
    "  for running quantum-mechanical simulation\n",
    "  \n",
    "- Become familiar with the Atomic Simulation Environment\n",
    "  and the PySCF code\n",
    "   \n",
    "- Calculate the energy of a molecule     \n",
    "  at various levels of theory (i.e Hartree-Fock and Density Functional Theory)\n",
    "  \n",
    "- Optimise the structure of the structure of simple inorganic molecules\n",
    "\n",
    "- Automatize this procedure by mean of python scripting\n",
    "\n",
    "\n",
    "\n"
   ]
  },
  {
   "cell_type": "markdown",
   "metadata": {},
   "source": [
    "## Instructions"
   ]
  },
  {
   "cell_type": "markdown",
   "metadata": {},
   "source": [
    "The computational laboratory consists of three main parts.\n",
    "Below you can find the links to jupyter-notebook.\n",
    "- Please go throught them, read the introduction \n",
    "- Complete the exercises\n",
    "- Answer the questions\n",
    "- Save the jupyter-notebook once completed \n",
    "- Once you have completed all the parts, create a zip file of your work and submit it in blackboard.\n",
    "\n",
    "It is strongly recommended to create a pdf file of the completed jupyter-notebook and save the file in a folder named \"pdf\". \n",
    "Include the pdf files in the zip file to be uploaded \n",
    "in blackboard. (If there is a problem, please inform the demonstrators).\n",
    "How to save a pdf file in jupyter-notebook?\n",
    "- Go under \"File\" in the top menu\n",
    "- Click \"Download as\"\n",
    "- Select \"PDF via LaTeX (.pdf)\" \n",
    "- Save a pdf of the notebook once completed.\n",
    "\n",
    "\n"
   ]
  },
  {
   "cell_type": "markdown",
   "metadata": {},
   "source": [
    "## Part 1"
   ]
  },
  {
   "cell_type": "markdown",
   "metadata": {},
   "source": [
    "### Setup "
   ]
  },
  {
   "cell_type": "markdown",
   "metadata": {},
   "source": [
    "<a href=\"setup_mac_linux.ipynb\">Setup only for Mac/Linux</a>"
   ]
  },
  {
   "cell_type": "markdown",
   "metadata": {},
   "source": [
    "<a href=\"setup_windows.ipynb\">Setup only for Windows</a>"
   ]
  },
  {
   "cell_type": "markdown",
   "metadata": {},
   "source": [
    "<a href=\"setup_ASE.ipynb\">Setup ASE</a>"
   ]
  },
  {
   "cell_type": "markdown",
   "metadata": {},
   "source": [
    "<a href=\"setup_pyscf.ipynb\">Setup pyscf</a>"
   ]
  },
  {
   "cell_type": "markdown",
   "metadata": {},
   "source": [
    "### The Atomic Simulation Environment (ASE) and the Atom(s) Object"
   ]
  },
  {
   "cell_type": "markdown",
   "metadata": {},
   "source": [
    "<a href=\"H2_molecule_geom.ipynb\">The H2 molecule: geometry and visualization</a>"
   ]
  },
  {
   "cell_type": "markdown",
   "metadata": {},
   "source": [
    "<a href=\"molecules.ipynb\">Molecules: geometry and visualization</a>"
   ]
  },
  {
   "cell_type": "markdown",
   "metadata": {},
   "source": [
    "## Part 2"
   ]
  },
  {
   "cell_type": "markdown",
   "metadata": {},
   "source": [
    "### The pyscf code"
   ]
  },
  {
   "cell_type": "markdown",
   "metadata": {},
   "source": [
    "<a href=\"H2_molecule_energy.ipynb\">The H2 molecule: energy</a>"
   ]
  },
  {
   "cell_type": "markdown",
   "metadata": {},
   "source": [
    "<a href=\"H2_molecule_opt.ipynb\">The H2 molecule: optimisation</a>"
   ]
  },
  {
   "cell_type": "markdown",
   "metadata": {},
   "source": [
    "<a href=\"H2_molecule_opt_hamilt.ipynb\">The H2 molecule: geometry optimisation - hamiltonian influence </a>"
   ]
  },
  {
   "cell_type": "markdown",
   "metadata": {},
   "source": [
    "## Part 3"
   ]
  },
  {
   "cell_type": "markdown",
   "metadata": {},
   "source": [
    "<a href=\"molecules_simulation.ipynb\">Molecules: simulation</a>"
   ]
  }
 ],
 "metadata": {
  "kernelspec": {
   "display_name": "Python 3",
   "language": "python",
   "name": "python3"
  },
  "language_info": {
   "codemirror_mode": {
    "name": "ipython",
    "version": 3
   },
   "file_extension": ".py",
   "mimetype": "text/x-python",
   "name": "python",
   "nbconvert_exporter": "python",
   "pygments_lexer": "ipython3",
   "version": "3.7.6"
  }
 },
 "nbformat": 4,
 "nbformat_minor": 2
}
