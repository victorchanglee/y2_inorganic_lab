{
 "cells": [
  {
   "cell_type": "markdown",
   "metadata": {},
   "source": [
    "# The H2 molecule: geometry optimisation"
   ]
  },
  {
   "cell_type": "markdown",
   "metadata": {},
   "source": [
    "In the geometry optimisation, the energy of the molecule is minimised as a function of the geometry.\n",
    "In general, for a molecule, the energy is a function of the atomic coordinates ($x,y,z$ for each atom).\n",
    "In the case of a H2 molecule,\n",
    "instead of using six variables \n",
    "(i.e. $x_0$, $y_0$ and $z_0$ and $x_1$, $y_1$ and $z_1$ )\n",
    "the energy expression can be simplified by changing only one variable \n",
    "and fixing all the others:\n",
    "$$\n",
    "E(x_0, y_0, z_0, x_1, y_1 , z_1 ) \\equiv \n",
    "E(x_0, 0 , 0 , 0 , 0, 0 )$$\n",
    "This is equilavent to expressing the energy as a function of the bond distance $d$:\n",
    "$$\n",
    "E(x_0, y_0, z_0, x_1, y_1 , z_1 ) \\equiv E(d)\n",
    "$$\n",
    "In the case of a water molecule, the energy can be written equivalently as follows (when symmetry is taken into account):\n",
    "$$\n",
    "E(x_0, y_0, z_0, x_1, y_1 , z_1, x_2, y_2 , z_2   ) \\equiv \n",
    "E(d_{OH},\\alpha_{HOH})\n",
    "$$\n",
    "where $\\alpha_{HOH}$ is the angle $H\\hat{O}H$. \n",
    "The set of bond lengths, valence angles and torsions are called internal coordinates. Those coordinates are a good description of a  molecule, since the natural connectivity of chemical structures is more evident.\n",
    "\n",
    "The geometry optimisation is a procedure in which the calculation starts from the initial geometry provided.\n",
    "The energy and the forces acting on each atom in the molecule are calculated and, based on them, a new geometry is defined for the second point/cycle in the geometry optimisation.\n",
    "There are various schemes developed for the definition of a new geometry; these are based on an intial guess for the hessian matrix\n",
    "(i.e. the matrix of the second derivatives\n",
    "of the energy with respect to the atomic coordinates).\n",
    "\n",
    "This procedure is repeated until the forces acting on the atoms (the gradient of the Energy of the system with respect to the atomic coordinates of each atom) becomes smaller than a threshold used as a reference for zero.\n",
    "The threshold also defines the accuracy of the geometry optimisation. \n"
   ]
  },
  {
   "cell_type": "markdown",
   "metadata": {},
   "source": [
    "<b><i>EXE-33:</i></b> From session <a href=\"H2_molecule_energy.ipynb\">The H2 molecule: energy</a>\n",
    "\n",
    "copy the python program your have implemented in the code cell labelled $\\color{blue}{\\text{REFERENCE-1}}$\n",
    "in the code cell below and add the following line to perform a geometry optimisation.\n",
    "\n",
    "\n",
    "\n",
    "<code>\n",
    "from pyscf.geomopt.berny_solver import optimize\n",
    "mol_opt = optimize(mf_class)\n",
    "print(\"Atomic coordinates (Bohr):\")\n",
    "print(mol_opt.atom_coords())\n",
    "print(\"Atomic coordinates (Angstrom):\")\n",
    "print(mol_opt.atom_coords(unit=\"Angstrom\"))\n",
    "</code>\n",
    "\n",
    "The program pyscf might print a warning message; it is a good practive to read warning message, but, in this case, please ignore it. The warning message is not important for our purposes. "
   ]
  },
  {
   "cell_type": "code",
   "execution_count": null,
   "metadata": {},
   "outputs": [],
   "source": [
    "#Add code\n",
    "\n",
    "\n",
    "\n",
    "\n"
   ]
  },
  {
   "cell_type": "markdown",
   "metadata": {},
   "source": [
    "<b><i>QUESTION-12:</i></b> How many geometry optimisation cycles have been performed?"
   ]
  },
  {
   "cell_type": "raw",
   "metadata": {},
   "source": [
    "ANSWER: (write your answer in this box)\n",
    "\n",
    "\n",
    "\n",
    "-\n",
    "\n",
    "\n"
   ]
  },
  {
   "cell_type": "markdown",
   "metadata": {},
   "source": [
    "<b><i>QUESTION-13:</i></b> \n",
    "\n",
    "What is the percentage error of the H-H bond distance with respect to the experimental value?\n",
    "(write your answer in the cell below).\n",
    "\n",
    "Is the calculated value underestimated or overestimated?\n"
   ]
  },
  {
   "cell_type": "raw",
   "metadata": {},
   "source": [
    "ANSWER: click to write your answer in this box.\n",
    "\n",
    "\n",
    "\n",
    "-\n",
    "\n",
    "\n"
   ]
  },
  {
   "cell_type": "markdown",
   "metadata": {},
   "source": [
    "<b><i>QUESTION-14:</i></b> Which coordinates are adopted in the geometry optimisation? Are they internal or cartesian coordinates?"
   ]
  },
  {
   "cell_type": "raw",
   "metadata": {},
   "source": [
    "ANSWER: click to write your answer in this box.\n",
    "\n",
    "\n",
    "\n"
   ]
  },
  {
   "cell_type": "markdown",
   "metadata": {},
   "source": [
    "<b><i>EXE-34:</i></b> In the mol_opt object, the RHF optimised geometry is saved.\n",
    "\n",
    "Use this geometry as the input geometry to run a new optimisation.\n",
    "Replacing the original mol object (the unoptimised geometry) with the mol_opt object when setting the hamiltonian.\n",
    "\n",
    "Assign the new geometry from the optimisation to a new variable: mol_reopt.\n",
    "\n",
    "Add the following instructions in your code cell:\n",
    "\n",
    "<code>\n",
    "print(mol_opt.basis)\n",
    "print(mol_opt.verbose)\n",
    "print(mol_opt.output)\n",
    "</code>"
   ]
  },
  {
   "cell_type": "code",
   "execution_count": null,
   "metadata": {},
   "outputs": [],
   "source": [
    "#Add code\n",
    "\n",
    "\n",
    "\n"
   ]
  },
  {
   "cell_type": "markdown",
   "metadata": {},
   "source": [
    "<b><i>QUESTION-15:</i></b> How many geometry optimisation cycle have been performed in the second optimisation? Please explain why."
   ]
  },
  {
   "cell_type": "raw",
   "metadata": {},
   "source": [
    "ANSWER: click to write your answer in this box. \n",
    "\n",
    "\n",
    "\n",
    "-\n",
    "\n",
    "\n"
   ]
  },
  {
   "cell_type": "markdown",
   "metadata": {},
   "source": [
    "<b><i>QUESTION-16:</i></b> Calculate the difference between the energy of  the optimised geometry and the energy of the initial geometry? \n",
    "Those energies are given in atomic units. \n",
    "Hartree is the atomic unit for energy: 1Hartee = 27.2114eV"
   ]
  },
  {
   "cell_type": "raw",
   "metadata": {},
   "source": [
    "ANSWER: click to write your answer in this box. \n",
    "\n",
    "\n",
    "\n",
    "-\n",
    "\n",
    "\n"
   ]
  },
  {
   "cell_type": "markdown",
   "metadata": {},
   "source": [
    "<b><i>EXE-35:</i></b> Analyse the molecular orbitals energies and compare with those obtained at the end of the previous section.\n",
    "\n",
    "Starting from mol_opt, turn on the symmetry, run an scf calculation in order to get the ground state energy, the wavefunction of the system.\n",
    "Use the .analyze() method to print the molecular orbitals levels.\n",
    "\n",
    "Increase the level of verbosity to 9, in order to print for each molecular orbital the coefficients of the linear combination of atomic orbitals.\n",
    "\n",
    "Before running the calculation it is fundamental to use the method .build()"
   ]
  },
  {
   "cell_type": "code",
   "execution_count": null,
   "metadata": {},
   "outputs": [],
   "source": [
    "#Add code\n",
    "\n",
    "\n"
   ]
  },
  {
   "cell_type": "markdown",
   "metadata": {},
   "source": [
    "<b><i>QUESTION-17:</i></b> Do you expect any change in the value of the cofficients of the linear combination of atomic orbitals when changing the bond distance?"
   ]
  },
  {
   "cell_type": "raw",
   "metadata": {},
   "source": [
    "ANSWER: click to write your answer in this box. \n",
    "\n",
    "\n",
    "\n",
    "\n"
   ]
  },
  {
   "cell_type": "markdown",
   "metadata": {},
   "source": [
    "<b><i>EXE-36:</i></b> In the previos session, the following function was defined.\n",
    "<code>\n",
    "  def ASE_geom_to_pyscf_geom(ASE_geom):\n",
    "    return [[atom.symbol,atom.position] for atom in ASE_geom]   \n",
    "</code>\n",
    "\n",
    "In order to visualise the optimised stucture, we need to recover the molecule in ASE geometry.\n",
    "\n",
    "Define the function pyscf_geom_to_ASE_geom(), which does the conversion.\n",
    "Then visualise the optimised geometry.\n",
    "\n",
    "Add your code in the following code cell.\n",
    "\n",
    "Type in a code cell the following command to read the manual\n",
    "<pre>\n",
    "help(mol_opt)\n",
    "</pre>"
   ]
  },
  {
   "cell_type": "code",
   "execution_count": null,
   "metadata": {},
   "outputs": [],
   "source": [
    "#Add code\n",
    "\n",
    "\n"
   ]
  },
  {
   "cell_type": "markdown",
   "metadata": {},
   "source": [
    "<b><i>EXE-37:</i></b> From session <a href=\"H2_molecule_energy.ipynb\">\n",
    "    The H2 molecule: energy</a>\n",
    "\n",
    "copy the python program your have implemented \n",
    "in the code cell labelled $\\color{blue}{\\text{REFERENCE-2}}$\n",
    "in the code cell below and add the following line\n",
    "to perform a geometry optimisation.\n",
    "In this way, the output of your geometry optimisation \n",
    "will be saved in a file.\n",
    "\n",
    "\n",
    "<code>\n",
    "from pyscf.geomopt.berny_solver import optimize\n",
    "mol_opt = optimize(mf_class)\n",
    "print(\"Atomic coordinates (Bohr):\")\n",
    "print(mol_opt.atom_coords())\n",
    "print(\"Atomic coordinates (Angstrom):\")\n",
    "print(mol_opt.atom_coords(unit=\"Angstrom\"))\n",
    "</code>\n",
    "\n",
    "In order to analyse the molecular orbitals,\n",
    "we need to follow the following steps for the optimized molecule:\n",
    "- Define the basis set: \n",
    "<code>\n",
    "mol_opt.basis = \"sto-3g\"\n",
    "</code>\n",
    "- Define the verbosity \n",
    "mol_opt.vebose = 9\n",
    "- Use the method .build() to build the molecule\n",
    "- Define the hamiltonian\n",
    "- Run the simulation with the method .kernel()\n",
    "- Analyse the molecular orbitals with the method .analyze()"
   ]
  },
  {
   "cell_type": "markdown",
   "metadata": {},
   "source": [
    "$\\color{blue}{\\text{REFERENCE-3}}$: Please use the code in the code cell below as a reference for next sessions."
   ]
  },
  {
   "cell_type": "code",
   "execution_count": null,
   "metadata": {},
   "outputs": [],
   "source": [
    "#REFERENCE-3\n",
    "#Add code\n",
    "\n",
    "\n"
   ]
  },
  {
   "cell_type": "markdown",
   "metadata": {},
   "source": [
    "<b><i>EXE-38:</i></b> Using the code in the previous cell, define a function called: \n",
    "\n",
    "my_run_STO_RHF_opt(formula)\n",
    "\n",
    "Given the chemical formula, the function should return\n",
    "the optimised geometry obtained with an sto-3g basis set and a Restricted Hartree-Fock Hamiltonian."
   ]
  },
  {
   "cell_type": "code",
   "execution_count": null,
   "metadata": {
    "scrolled": true
   },
   "outputs": [],
   "source": [
    "#Add code\n",
    "  \n",
    "\n"
   ]
  },
  {
   "cell_type": "markdown",
   "metadata": {},
   "source": [
    "<a href=\"main.ipynb\">Main</a> <a href=\"H2_molecule_opt_hamilt.ipynb\">Next</a>"
   ]
  }
 ],
 "metadata": {
  "kernelspec": {
   "display_name": "Python 3",
   "language": "python",
   "name": "python3"
  },
  "language_info": {
   "codemirror_mode": {
    "name": "ipython",
    "version": 3
   },
   "file_extension": ".py",
   "mimetype": "text/x-python",
   "name": "python",
   "nbconvert_exporter": "python",
   "pygments_lexer": "ipython3",
   "version": "3.7.6"
  }
 },
 "nbformat": 4,
 "nbformat_minor": 2
}
